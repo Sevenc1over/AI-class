{
  "nbformat": 4,
  "nbformat_minor": 0,
  "metadata": {
    "colab": {
      "provenance": [],
      "gpuType": "T4",
      "authorship_tag": "ABX9TyN4kMq7K9Domnij3KJqBVM0",
      "include_colab_link": true
    },
    "kernelspec": {
      "name": "python3",
      "display_name": "Python 3"
    },
    "language_info": {
      "name": "python"
    },
    "accelerator": "GPU"
  },
  "cells": [
    {
      "cell_type": "markdown",
      "metadata": {
        "id": "view-in-github",
        "colab_type": "text"
      },
      "source": [
        "<a href=\"https://colab.research.google.com/github/Sevenc1over/AI-class/blob/main/6%EC%A3%BC%EC%B0%A8/%ED%85%90%EC%84%9C%ED%94%8C%EB%A1%9C%EC%9A%B0_%EB%94%A5%EB%9F%AC%EB%8B%9D1.ipynb\" target=\"_parent\"><img src=\"https://colab.research.google.com/assets/colab-badge.svg\" alt=\"Open In Colab\"/></a>"
      ]
    },
    {
      "cell_type": "code",
      "execution_count": 1,
      "metadata": {
        "id": "5PoH8KOEC4ES"
      },
      "outputs": [],
      "source": [
        "#데이터 불러오기\n",
        "import tensorflow as tf\n",
        "from tensorflow.keras.datasets import mnist\n",
        "\n",
        "(x_train, y_train), (x_test, y_test) = mnist.load_data()"
      ]
    },
    {
      "cell_type": "code",
      "source": [
        "#전처리: 정규화 + 차원 추가\n",
        "x_train = x_train / 255.0\n",
        "x_test = x_test / 255.0\n",
        "\n",
        "x_train = x_train[..., tf.newaxis]\n",
        "x_test = x_test[..., tf.newaxis]\n",
        "print(x_train.shape, x_test.shape)\n",
        "#위 코드는 데이터 불러오기 이후 1번 실행할때마다 차원을 더 추가합니다. 절.대.로 한번만 실행하십시오."
      ],
      "metadata": {
        "colab": {
          "base_uri": "https://localhost:8080/"
        },
        "id": "DNZ2C5L1PaGs",
        "outputId": "c995a31d-8cce-4ffc-e124-201b1a82d06b"
      },
      "execution_count": 2,
      "outputs": [
        {
          "output_type": "stream",
          "name": "stdout",
          "text": [
            "(60000, 28, 28, 1) (10000, 28, 28, 1)\n"
          ]
        }
      ]
    },
    {
      "cell_type": "code",
      "source": [
        "#CNN 모델 구성하기\n",
        "from tensorflow.keras import layers, models\n",
        "model = models.Sequential()\n",
        "model.add(layers.Conv2D(32, (3, 3), activation='relu', input_shape=(28, 28, 1)))\n",
        "model.add(layers.MaxPooling2D((2, 2)))\n",
        "model.add(layers.Conv2D(32, (3, 3), activation='relu'))\n",
        "model.add(layers.MaxPooling2D((2, 2)))\n",
        "model.add(layers.Conv2D(32, (3, 3), activation='relu'))\n",
        "\n",
        "model.add(layers.Flatten())\n",
        "model.add(layers.Dense(64, activation='relu'))\n",
        "model.add(layers.Dense(10, activation='softmax'))\n",
        "\n"
      ],
      "metadata": {
        "colab": {
          "base_uri": "https://localhost:8080/"
        },
        "id": "e_bH7NRbXHo4",
        "outputId": "2bd1e5ea-7ec2-4a4d-e27e-3d12cd2dde0b"
      },
      "execution_count": 3,
      "outputs": [
        {
          "output_type": "stream",
          "name": "stderr",
          "text": [
            "/usr/local/lib/python3.12/dist-packages/keras/src/layers/convolutional/base_conv.py:113: UserWarning: Do not pass an `input_shape`/`input_dim` argument to a layer. When using Sequential models, prefer using an `Input(shape)` object as the first layer in the model instead.\n",
            "  super().__init__(activity_regularizer=activity_regularizer, **kwargs)\n"
          ]
        }
      ]
    },
    {
      "cell_type": "code",
      "source": [
        "#모델 컴파일하기\n",
        "model.compile(\n",
        "    optimizer='adam',\n",
        "    loss='sparse_categorical_crossentropy',#정수형 라벨이 많은 MNIST에서는 one-hot인코딩에 좋은categorical_crossentropy 사용 x\n",
        "    metrics=['accuracy']\n",
        ")"
      ],
      "metadata": {
        "id": "eSN34M_Lh_df"
      },
      "execution_count": 4,
      "outputs": []
    },
    {
      "cell_type": "code",
      "source": [
        "# 학습\n",
        "model_cnn = model.fit(x_train, y_train, epochs=10, validation_split=0.1, batch_size=128, verbose=2)"
      ],
      "metadata": {
        "colab": {
          "base_uri": "https://localhost:8080/"
        },
        "id": "Qw1bFOwdhCFU",
        "outputId": "928900ce-0320-472e-b1ae-1d3cc8fa5752"
      },
      "execution_count": 5,
      "outputs": [
        {
          "output_type": "stream",
          "name": "stdout",
          "text": [
            "Epoch 1/10\n",
            "422/422 - 8s - 18ms/step - accuracy: 0.9045 - loss: 0.3233 - val_accuracy: 0.9798 - val_loss: 0.0733\n",
            "Epoch 2/10\n",
            "422/422 - 2s - 5ms/step - accuracy: 0.9763 - loss: 0.0770 - val_accuracy: 0.9837 - val_loss: 0.0556\n",
            "Epoch 3/10\n",
            "422/422 - 2s - 5ms/step - accuracy: 0.9831 - loss: 0.0547 - val_accuracy: 0.9872 - val_loss: 0.0473\n",
            "Epoch 4/10\n",
            "422/422 - 1s - 4ms/step - accuracy: 0.9867 - loss: 0.0439 - val_accuracy: 0.9878 - val_loss: 0.0392\n",
            "Epoch 5/10\n",
            "422/422 - 2s - 4ms/step - accuracy: 0.9881 - loss: 0.0372 - val_accuracy: 0.9905 - val_loss: 0.0347\n",
            "Epoch 6/10\n",
            "422/422 - 3s - 6ms/step - accuracy: 0.9897 - loss: 0.0314 - val_accuracy: 0.9897 - val_loss: 0.0387\n",
            "Epoch 7/10\n",
            "422/422 - 2s - 4ms/step - accuracy: 0.9916 - loss: 0.0261 - val_accuracy: 0.9895 - val_loss: 0.0419\n",
            "Epoch 8/10\n",
            "422/422 - 2s - 4ms/step - accuracy: 0.9921 - loss: 0.0237 - val_accuracy: 0.9882 - val_loss: 0.0414\n",
            "Epoch 9/10\n",
            "422/422 - 2s - 4ms/step - accuracy: 0.9934 - loss: 0.0198 - val_accuracy: 0.9900 - val_loss: 0.0380\n",
            "Epoch 10/10\n",
            "422/422 - 2s - 4ms/step - accuracy: 0.9940 - loss: 0.0186 - val_accuracy: 0.9883 - val_loss: 0.0438\n"
          ]
        }
      ]
    },
    {
      "cell_type": "code",
      "source": [
        "test_loss, test_acc = model.evaluate(x_test, y_test)\n",
        "print(f\"Test accuracy: {test_acc:.2%}\")"
      ],
      "metadata": {
        "colab": {
          "base_uri": "https://localhost:8080/"
        },
        "id": "lT9VoJoZh32Y",
        "outputId": "4dae104b-37a1-4f88-8d4a-db1df1f34eec"
      },
      "execution_count": 6,
      "outputs": [
        {
          "output_type": "stream",
          "name": "stdout",
          "text": [
            "\u001b[1m313/313\u001b[0m \u001b[32m━━━━━━━━━━━━━━━━━━━━\u001b[0m\u001b[37m\u001b[0m \u001b[1m2s\u001b[0m 4ms/step - accuracy: 0.9846 - loss: 0.0472\n",
            "Test accuracy: 98.85%\n"
          ]
        }
      ]
    }
  ]
}