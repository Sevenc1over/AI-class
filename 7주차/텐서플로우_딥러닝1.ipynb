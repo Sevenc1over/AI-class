{
  "nbformat": 4,
  "nbformat_minor": 0,
  "metadata": {
    "colab": {
      "provenance": [],
      "gpuType": "T4",
      "authorship_tag": "ABX9TyMMmcYmzf3Emp+H0oQSZE7l",
      "include_colab_link": true
    },
    "kernelspec": {
      "name": "python3",
      "display_name": "Python 3"
    },
    "language_info": {
      "name": "python"
    },
    "accelerator": "GPU"
  },
  "cells": [
    {
      "cell_type": "markdown",
      "metadata": {
        "id": "view-in-github",
        "colab_type": "text"
      },
      "source": [
        "<a href=\"https://colab.research.google.com/github/Sevenc1over/AI-class/blob/main/7%EC%A3%BC%EC%B0%A8/%ED%85%90%EC%84%9C%ED%94%8C%EB%A1%9C%EC%9A%B0_%EB%94%A5%EB%9F%AC%EB%8B%9D1.ipynb\" target=\"_parent\"><img src=\"https://colab.research.google.com/assets/colab-badge.svg\" alt=\"Open In Colab\"/></a>"
      ]
    },
    {
      "cell_type": "code",
      "execution_count": 1,
      "metadata": {
        "id": "5PoH8KOEC4ES",
        "colab": {
          "base_uri": "https://localhost:8080/"
        },
        "outputId": "c678f8ba-3667-4e6b-f2a5-2d91487168c6"
      },
      "outputs": [
        {
          "output_type": "stream",
          "name": "stdout",
          "text": [
            "Downloading data from https://storage.googleapis.com/tensorflow/tf-keras-datasets/mnist.npz\n",
            "\u001b[1m11490434/11490434\u001b[0m \u001b[32m━━━━━━━━━━━━━━━━━━━━\u001b[0m\u001b[37m\u001b[0m \u001b[1m0s\u001b[0m 0us/step\n"
          ]
        }
      ],
      "source": [
        "#데이터 불러오기\n",
        "import tensorflow as tf\n",
        "from tensorflow.keras.datasets import mnist\n",
        "\n",
        "(x_train, y_train), (x_test, y_test) = mnist.load_data()"
      ]
    },
    {
      "cell_type": "code",
      "source": [
        "#전처리: 정규화 + 차원 추가\n",
        "x_train = x_train / 255.0\n",
        "x_test = x_test / 255.0\n",
        "\n",
        "x_train = x_train[..., tf.newaxis]\n",
        "x_test = x_test[..., tf.newaxis]\n",
        "print(x_train.shape, x_test.shape)\n",
        "#위 코드는 데이터 불러오기 이후 1번 실행할때마다 차원을 더 추가합니다. 절.대.로 한번만 실행하십시오."
      ],
      "metadata": {
        "colab": {
          "base_uri": "https://localhost:8080/"
        },
        "id": "DNZ2C5L1PaGs",
        "outputId": "8aecbc67-b27d-42c5-8965-e1f2388407a8"
      },
      "execution_count": 2,
      "outputs": [
        {
          "output_type": "stream",
          "name": "stdout",
          "text": [
            "(60000, 28, 28, 1) (10000, 28, 28, 1)\n"
          ]
        }
      ]
    },
    {
      "cell_type": "code",
      "source": [
        "#CNN 모델 구성하기\n",
        "from tensorflow.keras import layers, models\n",
        "model = models.Sequential()\n",
        "model.add(layers.Conv2D(32, (3, 3), activation='relu', input_shape=(28, 28, 1)))\n",
        "model.add(layers.MaxPooling2D((2, 2)))\n",
        "model.add(layers.Conv2D(32, (3, 3), activation='relu'))\n",
        "model.add(layers.MaxPooling2D((2, 2)))\n",
        "model.add(layers.Conv2D(32, (3, 3), activation='relu'))\n",
        "\n",
        "model.add(layers.Flatten())\n",
        "model.add(layers.Dense(64, activation='relu'))\n",
        "model.add(layers.Dense(10, activation='softmax'))\n",
        "\n"
      ],
      "metadata": {
        "colab": {
          "base_uri": "https://localhost:8080/"
        },
        "id": "e_bH7NRbXHo4",
        "outputId": "9f6d3639-3b1f-49ed-fb9e-ad3024a1f319"
      },
      "execution_count": 3,
      "outputs": [
        {
          "output_type": "stream",
          "name": "stderr",
          "text": [
            "/usr/local/lib/python3.12/dist-packages/keras/src/layers/convolutional/base_conv.py:113: UserWarning: Do not pass an `input_shape`/`input_dim` argument to a layer. When using Sequential models, prefer using an `Input(shape)` object as the first layer in the model instead.\n",
            "  super().__init__(activity_regularizer=activity_regularizer, **kwargs)\n"
          ]
        }
      ]
    },
    {
      "cell_type": "code",
      "source": [
        "#모델 컴파일하기\n",
        "model.compile(\n",
        "    optimizer='adam',\n",
        "    loss='sparse_categorical_crossentropy',#정수형 라벨이 많은 MNIST에서는 one-hot인코딩에 좋은categorical_crossentropy 사용 x\n",
        "    metrics=['accuracy']\n",
        ")"
      ],
      "metadata": {
        "id": "eSN34M_Lh_df"
      },
      "execution_count": 4,
      "outputs": []
    },
    {
      "cell_type": "code",
      "source": [
        "# 학습\n",
        "model_cnn = model.fit(x_train, y_train, epochs=10, validation_split=0.1, batch_size=128, verbose=2)"
      ],
      "metadata": {
        "colab": {
          "base_uri": "https://localhost:8080/"
        },
        "id": "Qw1bFOwdhCFU",
        "outputId": "fa2d63c6-2509-43b2-9d9a-981389decded"
      },
      "execution_count": 5,
      "outputs": [
        {
          "output_type": "stream",
          "name": "stdout",
          "text": [
            "Epoch 1/10\n",
            "422/422 - 9s - 22ms/step - accuracy: 0.9074 - loss: 0.3104 - val_accuracy: 0.9722 - val_loss: 0.0904\n",
            "Epoch 2/10\n",
            "422/422 - 2s - 4ms/step - accuracy: 0.9766 - loss: 0.0759 - val_accuracy: 0.9807 - val_loss: 0.0673\n",
            "Epoch 3/10\n",
            "422/422 - 2s - 4ms/step - accuracy: 0.9835 - loss: 0.0551 - val_accuracy: 0.9853 - val_loss: 0.0487\n",
            "Epoch 4/10\n",
            "422/422 - 2s - 4ms/step - accuracy: 0.9857 - loss: 0.0455 - val_accuracy: 0.9868 - val_loss: 0.0429\n",
            "Epoch 5/10\n",
            "422/422 - 2s - 4ms/step - accuracy: 0.9884 - loss: 0.0374 - val_accuracy: 0.9910 - val_loss: 0.0361\n",
            "Epoch 6/10\n",
            "422/422 - 2s - 4ms/step - accuracy: 0.9895 - loss: 0.0329 - val_accuracy: 0.9877 - val_loss: 0.0386\n",
            "Epoch 7/10\n",
            "422/422 - 2s - 4ms/step - accuracy: 0.9902 - loss: 0.0299 - val_accuracy: 0.9908 - val_loss: 0.0327\n",
            "Epoch 8/10\n",
            "422/422 - 2s - 4ms/step - accuracy: 0.9916 - loss: 0.0257 - val_accuracy: 0.9890 - val_loss: 0.0406\n",
            "Epoch 9/10\n",
            "422/422 - 2s - 4ms/step - accuracy: 0.9934 - loss: 0.0207 - val_accuracy: 0.9902 - val_loss: 0.0390\n",
            "Epoch 10/10\n",
            "422/422 - 2s - 4ms/step - accuracy: 0.9936 - loss: 0.0199 - val_accuracy: 0.9890 - val_loss: 0.0406\n"
          ]
        }
      ]
    },
    {
      "cell_type": "code",
      "source": [
        "test_loss, test_acc = model.evaluate(x_test, y_test)\n",
        "print(f\"Test accuracy: {test_acc:.2%}\")\n",
        "#model_cnn은 model에 학습후 각 에포크에 학습후 지표들을 저장하고 있다. 학습이 끝나고 실전에 쓰는 모델은 model이다."
      ],
      "metadata": {
        "colab": {
          "base_uri": "https://localhost:8080/"
        },
        "id": "lT9VoJoZh32Y",
        "outputId": "08b4026f-452d-4180-c1dc-7b634ca4d22d"
      },
      "execution_count": 6,
      "outputs": [
        {
          "output_type": "stream",
          "name": "stdout",
          "text": [
            "\u001b[1m313/313\u001b[0m \u001b[32m━━━━━━━━━━━━━━━━━━━━\u001b[0m\u001b[37m\u001b[0m \u001b[1m2s\u001b[0m 4ms/step - accuracy: 0.9875 - loss: 0.0369\n",
            "Test accuracy: 99.01%\n"
          ]
        }
      ]
    },
    {
      "cell_type": "code",
      "source": [
        "model.summary"
      ],
      "metadata": {
        "id": "bxP0B2Cqor6X",
        "outputId": "2d0c5885-b5d4-42dd-ae93-c9b2bdb0ac03",
        "colab": {
          "base_uri": "https://localhost:8080/",
          "height": 203
        }
      },
      "execution_count": 7,
      "outputs": [
        {
          "output_type": "execute_result",
          "data": {
            "text/plain": [
              "<bound method Model.summary of <Sequential name=sequential, built=True>>"
            ],
            "text/html": [
              "<div style=\"max-width:800px; border: 1px solid var(--colab-border-color);\"><style>\n",
              "      pre.function-repr-contents {\n",
              "        overflow-x: auto;\n",
              "        padding: 8px 12px;\n",
              "        max-height: 500px;\n",
              "      }\n",
              "\n",
              "      pre.function-repr-contents.function-repr-contents-collapsed {\n",
              "        cursor: pointer;\n",
              "        max-height: 100px;\n",
              "      }\n",
              "    </style>\n",
              "    <pre style=\"white-space: initial; background:\n",
              "         var(--colab-secondary-surface-color); padding: 8px 12px;\n",
              "         border-bottom: 1px solid var(--colab-border-color);\"><b>keras.src.models.model.Model.summary</b><br/>def summary(line_length=None, positions=None, print_fn=None, expand_nested=False, show_trainable=False, layer_range=None)</pre><pre class=\"function-repr-contents function-repr-contents-collapsed\" style=\"\"><a class=\"filepath\" style=\"display:none\" href=\"#\">/usr/local/lib/python3.12/dist-packages/keras/src/models/model.py</a>Prints a string summary of the network.\n",
              "\n",
              "Args:\n",
              "    line_length: Total length of printed lines\n",
              "        (e.g. set this to adapt the display to different\n",
              "        terminal window sizes).\n",
              "    positions: Relative or absolute positions of log elements\n",
              "        in each line. If not provided, becomes\n",
              "        `[0.3, 0.6, 0.70, 1.]`. Defaults to `None`.\n",
              "    print_fn: Print function to use. By default, prints to `stdout`.\n",
              "        If `stdout` doesn&#x27;t work in your environment, change to `print`.\n",
              "        It will be called on each line of the summary.\n",
              "        You can set it to a custom function\n",
              "        in order to capture the string summary.\n",
              "    expand_nested: Whether to expand the nested models.\n",
              "        Defaults to `False`.\n",
              "    show_trainable: Whether to show if a layer is trainable.\n",
              "        Defaults to `False`.\n",
              "    layer_range: a list or tuple of 2 strings,\n",
              "        which is the starting layer name and ending layer name\n",
              "        (both inclusive) indicating the range of layers to be printed\n",
              "        in summary. It also accepts regex patterns instead of exact\n",
              "        names. In this case, the start predicate will be\n",
              "        the first element that matches `layer_range[0]`\n",
              "        and the end predicate will be the last element\n",
              "        that matches `layer_range[1]`.\n",
              "        By default `None` considers all layers of the model.\n",
              "\n",
              "Raises:\n",
              "    ValueError: if `summary()` is called before the model is built.</pre>\n",
              "      <script>\n",
              "      if (google.colab.kernel.accessAllowed && google.colab.files && google.colab.files.view) {\n",
              "        for (const element of document.querySelectorAll('.filepath')) {\n",
              "          element.style.display = 'block'\n",
              "          element.onclick = (event) => {\n",
              "            event.preventDefault();\n",
              "            event.stopPropagation();\n",
              "            google.colab.files.view(element.textContent, 218);\n",
              "          };\n",
              "        }\n",
              "      }\n",
              "      for (const element of document.querySelectorAll('.function-repr-contents')) {\n",
              "        element.onclick = (event) => {\n",
              "          event.preventDefault();\n",
              "          event.stopPropagation();\n",
              "          element.classList.toggle('function-repr-contents-collapsed');\n",
              "        };\n",
              "      }\n",
              "      </script>\n",
              "      </div>"
            ]
          },
          "metadata": {},
          "execution_count": 7
        }
      ]
    },
    {
      "cell_type": "markdown",
      "source": [
        "위는 CNN입니다. 아래부터는 DNN입니다."
      ],
      "metadata": {
        "id": "lJPydgjfm3OL"
      }
    },
    {
      "cell_type": "code",
      "source": [
        "#데이터 불러오기\n",
        "(x_train, y_train), (x_test, y_test) = mnist.load_data()"
      ],
      "metadata": {
        "id": "OtK8k06EwKOs"
      },
      "execution_count": 8,
      "outputs": []
    },
    {
      "cell_type": "code",
      "source": [
        "#정규화 과정\n",
        "x_train = x_train / 255.0\n",
        "x_test = x_test / 255.0"
      ],
      "metadata": {
        "id": "Q5JnfdKR4ZAD"
      },
      "execution_count": 9,
      "outputs": []
    },
    {
      "cell_type": "code",
      "source": [
        "# DNN 모델 구성\n",
        "model_dnn = models.Sequential([\n",
        "    layers.Flatten(input_shape=(28, 28)),\n",
        "    layers.Dense(256, activation='relu'),\n",
        "    layers.Dropout(0.3),\n",
        "    layers.Dense(128, activation='relu'),\n",
        "    layers.Dropout(0.3),\n",
        "    layers.Dense(10, activation='softmax')\n",
        "])"
      ],
      "metadata": {
        "colab": {
          "base_uri": "https://localhost:8080/"
        },
        "id": "6ntRkhpD4e-P",
        "outputId": "486a33c7-deca-4291-af77-1b8b9696b140"
      },
      "execution_count": 10,
      "outputs": [
        {
          "output_type": "stream",
          "name": "stderr",
          "text": [
            "/usr/local/lib/python3.12/dist-packages/keras/src/layers/reshaping/flatten.py:37: UserWarning: Do not pass an `input_shape`/`input_dim` argument to a layer. When using Sequential models, prefer using an `Input(shape)` object as the first layer in the model instead.\n",
            "  super().__init__(**kwargs)\n"
          ]
        }
      ]
    },
    {
      "cell_type": "code",
      "source": [
        "#모델 컴파일\n",
        "model_dnn.compile(optimizer='adam',\n",
        "                  loss='sparse_categorical_crossentropy',\n",
        "                  metrics=['accuracy'])"
      ],
      "metadata": {
        "id": "m0gsfbPb4irn"
      },
      "execution_count": 11,
      "outputs": []
    },
    {
      "cell_type": "code",
      "source": [
        "# 학습\n",
        "history_dnn = model_dnn.fit(x_train, y_train, epochs=10,\n",
        "                            validation_split=0.1, batch_size=128, verbose=2)"
      ],
      "metadata": {
        "colab": {
          "base_uri": "https://localhost:8080/"
        },
        "id": "KG2Q9p734oDO",
        "outputId": "c7a3d6a0-1547-43e7-df86-ad8a22d78c77"
      },
      "execution_count": 12,
      "outputs": [
        {
          "output_type": "stream",
          "name": "stdout",
          "text": [
            "Epoch 1/10\n",
            "422/422 - 7s - 18ms/step - accuracy: 0.8776 - loss: 0.4077 - val_accuracy: 0.9632 - val_loss: 0.1284\n",
            "Epoch 2/10\n",
            "422/422 - 1s - 3ms/step - accuracy: 0.9486 - loss: 0.1743 - val_accuracy: 0.9747 - val_loss: 0.0898\n",
            "Epoch 3/10\n",
            "422/422 - 1s - 3ms/step - accuracy: 0.9608 - loss: 0.1312 - val_accuracy: 0.9782 - val_loss: 0.0742\n",
            "Epoch 4/10\n",
            "422/422 - 1s - 2ms/step - accuracy: 0.9686 - loss: 0.1036 - val_accuracy: 0.9772 - val_loss: 0.0721\n",
            "Epoch 5/10\n",
            "422/422 - 1s - 3ms/step - accuracy: 0.9719 - loss: 0.0906 - val_accuracy: 0.9803 - val_loss: 0.0677\n",
            "Epoch 6/10\n",
            "422/422 - 1s - 3ms/step - accuracy: 0.9755 - loss: 0.0785 - val_accuracy: 0.9808 - val_loss: 0.0664\n",
            "Epoch 7/10\n",
            "422/422 - 1s - 3ms/step - accuracy: 0.9790 - loss: 0.0675 - val_accuracy: 0.9803 - val_loss: 0.0667\n",
            "Epoch 8/10\n",
            "422/422 - 1s - 3ms/step - accuracy: 0.9794 - loss: 0.0650 - val_accuracy: 0.9822 - val_loss: 0.0664\n",
            "Epoch 9/10\n",
            "422/422 - 1s - 3ms/step - accuracy: 0.9806 - loss: 0.0588 - val_accuracy: 0.9812 - val_loss: 0.0694\n",
            "Epoch 10/10\n",
            "422/422 - 1s - 3ms/step - accuracy: 0.9825 - loss: 0.0548 - val_accuracy: 0.9817 - val_loss: 0.0656\n"
          ]
        }
      ]
    },
    {
      "cell_type": "code",
      "source": [
        "# 마지막 epoch의 검증 정확도와 손실 확인\n",
        "val_acc = history_dnn.history['val_accuracy'][-1]\n",
        "val_loss = history_dnn.history['val_loss'][-1]\n",
        "print(f\"Final val accuracy: {val_acc:.2%}\")\n",
        "print(f\"Final val loss: {val_loss:.4f}\")"
      ],
      "metadata": {
        "colab": {
          "base_uri": "https://localhost:8080/"
        },
        "id": "ufrUMpO85nO3",
        "outputId": "f8b3ff07-74f9-4a43-93aa-67f4bb5df599"
      },
      "execution_count": 15,
      "outputs": [
        {
          "output_type": "stream",
          "name": "stdout",
          "text": [
            "Final val accuracy: 98.17%\n",
            "Final val loss: 0.0656\n"
          ]
        }
      ]
    },
    {
      "cell_type": "code",
      "source": [
        "test_loss, test_acc = model_dnn.evaluate(x_test, y_test)\n",
        "print(f\"Test accuracy: {test_acc:.2%}\")"
      ],
      "metadata": {
        "colab": {
          "base_uri": "https://localhost:8080/"
        },
        "id": "TZutkn7O4qKh",
        "outputId": "6ab4e9c2-d84b-45fb-b52e-9e7e5946a24f"
      },
      "execution_count": 14,
      "outputs": [
        {
          "output_type": "stream",
          "name": "stdout",
          "text": [
            "\u001b[1m313/313\u001b[0m \u001b[32m━━━━━━━━━━━━━━━━━━━━\u001b[0m\u001b[37m\u001b[0m \u001b[1m2s\u001b[0m 4ms/step - accuracy: 0.9785 - loss: 0.0769\n",
            "Test accuracy: 98.13%\n"
          ]
        }
      ]
    },
    {
      "cell_type": "code",
      "source": [],
      "metadata": {
        "id": "nxKbnxz24wJU"
      },
      "execution_count": null,
      "outputs": []
    }
  ]
}