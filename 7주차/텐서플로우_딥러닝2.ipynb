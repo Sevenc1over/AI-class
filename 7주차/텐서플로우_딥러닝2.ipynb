{
  "nbformat": 4,
  "nbformat_minor": 0,
  "metadata": {
    "colab": {
      "provenance": [],
      "gpuType": "T4",
      "mount_file_id": "1S2t3wpE3P53WDac7e45rOkpEKFeMAX-g",
      "authorship_tag": "ABX9TyMsSWXEmZE84pZpy3Hj6h2S",
      "include_colab_link": true
    },
    "kernelspec": {
      "name": "python3",
      "display_name": "Python 3"
    },
    "language_info": {
      "name": "python"
    },
    "accelerator": "GPU"
  },
  "cells": [
    {
      "cell_type": "markdown",
      "metadata": {
        "id": "view-in-github",
        "colab_type": "text"
      },
      "source": [
        "<a href=\"https://colab.research.google.com/github/Sevenc1over/AI-class/blob/main/%ED%85%90%EC%84%9C%ED%94%8C%EB%A1%9C%EC%9A%B0_%EB%94%A5%EB%9F%AC%EB%8B%9D2.ipynb\" target=\"_parent\"><img src=\"https://colab.research.google.com/assets/colab-badge.svg\" alt=\"Open In Colab\"/></a>"
      ]
    },
    {
      "cell_type": "code",
      "execution_count": 2,
      "metadata": {
        "id": "B2teG_dKma1N"
      },
      "outputs": [],
      "source": [
        "import tensorflow as tf\n",
        "from tensorflow.keras import layers, models\n",
        "import numpy as np\n",
        "import os"
      ]
    },
    {
      "cell_type": "code",
      "source": [
        "# 경로 설정, 매번 데이터를 다운로드하는 것이 아닌, 기존 데이터가 없으면 드라이브에 저장하는 방식입니다.\n",
        "DATA_DIR = '/content/drive/MyDrive/Colab Notebooks/cifar10_data'  # CIFAR-10 데이터를 저장할 경로\n",
        "\n",
        "# 데이터 디렉토리 생성\n",
        "os.makedirs(DATA_DIR, exist_ok=True)\n",
        "\n",
        "# --- CIFAR-10 로드 (자동으로 캐싱) ---\n",
        "# Keras는 기본적으로 ~/.keras/datasets에 저장하지만,\n",
        "# 명시적으로 경로를 지정하려면 아래와 같이 처리\n",
        "cifar10_path = os.path.join(DATA_DIR,'cifar-10-batches-py')\n",
        "\n",
        "if os.path.exists(cifar10_path):\n",
        "    print(f\"✓ 기존 데이터 발견: {cifar10_path}\")\n",
        "    print(\"저장된 데이터를 로드합니다...\")\n",
        "else:\n",
        "    print(f\"데이터가 없습니다. {DATA_DIR}에 다운로드합니다...\")"
      ],
      "metadata": {
        "colab": {
          "base_uri": "https://localhost:8080/"
        },
        "id": "APjUvyB__Uop",
        "outputId": "fa9acbe0-d847-43fc-f965-4f072312037c"
      },
      "execution_count": 3,
      "outputs": [
        {
          "output_type": "stream",
          "name": "stdout",
          "text": [
            "데이터가 없습니다. /content/drive/MyDrive/Colab Notebooks/cifar10_data에 다운로드합니다...\n"
          ]
        }
      ]
    },
    {
      "cell_type": "code",
      "source": [
        "#데이터 로드\n",
        "(x_train, y_train),(x_test, y_test) = tf.keras.datasets.cifar10.load_data()"
      ],
      "metadata": {
        "id": "xqF9iMmA_skY"
      },
      "execution_count": 4,
      "outputs": []
    },
    {
      "cell_type": "code",
      "source": [
        "print(x_train.shape)\n",
        "print(x_test.shape)"
      ],
      "metadata": {
        "colab": {
          "base_uri": "https://localhost:8080/"
        },
        "id": "l72EfA7RALJB",
        "outputId": "4408e73c-8df6-4abb-d8bf-e591010b1cb5"
      },
      "execution_count": 5,
      "outputs": [
        {
          "output_type": "stream",
          "name": "stdout",
          "text": [
            "(50000, 32, 32, 3)\n",
            "(10000, 32, 32, 3)\n"
          ]
        }
      ]
    },
    {
      "cell_type": "code",
      "source": [
        "# 클래스 이름 정의\n",
        "class_names = ['airplane','automobile','bird','cat','deer','dog','frog','horse','ship','truck']"
      ],
      "metadata": {
        "id": "V3HDwJ8dA_20"
      },
      "execution_count": 6,
      "outputs": []
    },
    {
      "cell_type": "code",
      "source": [
        "# 사용할 클래스 선택\n",
        "selected_classes = ['cat','dog','horse']\n",
        "selected_idx = [class_names.index(c)for c in selected_classes]\n",
        "print(selected_idx)"
      ],
      "metadata": {
        "colab": {
          "base_uri": "https://localhost:8080/"
        },
        "id": "DB4BEjTJBHFj",
        "outputId": "667e9682-877c-49d6-e7bd-e87f9bc34c31"
      },
      "execution_count": 7,
      "outputs": [
        {
          "output_type": "stream",
          "name": "stdout",
          "text": [
            "[3, 5, 7]\n"
          ]
        }
      ]
    },
    {
      "cell_type": "code",
      "source": [
        "# 선택한 클래스 필터링\n",
        "train_mask = np.isin(y_train, selected_idx).flatten()\n",
        "test_mask = np.isin(y_test, selected_idx).flatten()\n",
        "\n",
        "x_train, y_train = x_train[train_mask], y_train[train_mask]\n",
        "x_test, y_test = x_test[test_mask], y_test[test_mask]"
      ],
      "metadata": {
        "id": "zcdnfUdNBdfj"
      },
      "execution_count": 8,
      "outputs": []
    },
    {
      "cell_type": "code",
      "source": [
        "#라벨을 0-2로 자시 재정의\n",
        "label_map = {v: i for i, v in enumerate(selected_idx)}\n",
        "y_train = np.array([label_map[int(y)]for y in y_train])\n",
        "y_test = np.array([label_map[int(y)]for y in y_test])"
      ],
      "metadata": {
        "colab": {
          "base_uri": "https://localhost:8080/"
        },
        "id": "kZIYxVicCRGW",
        "outputId": "c6b43f27-03c8-4126-acc7-0bafa0ad2e98"
      },
      "execution_count": 9,
      "outputs": [
        {
          "output_type": "stream",
          "name": "stderr",
          "text": [
            "/tmp/ipython-input-3096797891.py:3: DeprecationWarning: Conversion of an array with ndim > 0 to a scalar is deprecated, and will error in future. Ensure you extract a single element from your array before performing this operation. (Deprecated NumPy 1.25.)\n",
            "  y_train = np.array([label_map[int(y)]for y in y_train])\n",
            "/tmp/ipython-input-3096797891.py:4: DeprecationWarning: Conversion of an array with ndim > 0 to a scalar is deprecated, and will error in future. Ensure you extract a single element from your array before performing this operation. (Deprecated NumPy 1.25.)\n",
            "  y_test = np.array([label_map[int(y)]for y in y_test])\n"
          ]
        }
      ]
    },
    {
      "cell_type": "code",
      "source": [
        "# 정규화\n",
        "x_train, x_test = x_train / 255.0, x_test / 255.0"
      ],
      "metadata": {
        "id": "7SGZFbHQCk8k"
      },
      "execution_count": 10,
      "outputs": []
    },
    {
      "cell_type": "code",
      "source": [
        "# CNN 모델 구성\n",
        "model = models.Sequential()\n",
        "model.add(layers.Conv2D(32, (3, 3), activation='relu', input_shape=(32, 32, 3)))\n",
        "model.add(layers.Conv2D(32, (3, 3), activation='relu'))\n",
        "model.add(layers.MaxPooling2D((2, 2)))\n",
        "model.add(layers.Conv2D(32, (3, 3), activation='relu'))\n",
        "model.add(layers.Conv2D(32, (3, 3), activation='relu'))\n",
        "model.add(layers.MaxPooling2D((2, 2)))\n",
        "model.add(layers.Conv2D(32, (3, 3), activation='relu'))\n",
        "model.add(layers.Conv2D(32, (3, 3), activation='relu'))\n",
        "\n",
        "model.add(layers.Flatten())\n",
        "model.add(layers.Dense(64, activation='relu'))\n",
        "model.add(layers.Dense(3, activation='softmax'))"
      ],
      "metadata": {
        "colab": {
          "base_uri": "https://localhost:8080/"
        },
        "id": "NTHi_v5hCusZ",
        "outputId": "b959e464-5f36-45cc-ea46-09c3e57c71da"
      },
      "execution_count": 11,
      "outputs": [
        {
          "output_type": "stream",
          "name": "stderr",
          "text": [
            "/usr/local/lib/python3.12/dist-packages/keras/src/layers/convolutional/base_conv.py:113: UserWarning: Do not pass an `input_shape`/`input_dim` argument to a layer. When using Sequential models, prefer using an `Input(shape)` object as the first layer in the model instead.\n",
            "  super().__init__(activity_regularizer=activity_regularizer, **kwargs)\n"
          ]
        }
      ]
    },
    {
      "cell_type": "code",
      "source": [
        "#모델 컴파일하기\n",
        "model.compile(\n",
        "    optimizer='adam',\n",
        "    loss='sparse_categorical_crossentropy',\n",
        "    metrics=['accuracy']\n",
        ")"
      ],
      "metadata": {
        "id": "bRKSuZjyC5fh"
      },
      "execution_count": 12,
      "outputs": []
    },
    {
      "cell_type": "code",
      "source": [
        "# 학습\n",
        "model_cnn = model.fit(x_train, y_train, epochs=10, validation_split=0.1, batch_size=128, verbose=2)"
      ],
      "metadata": {
        "colab": {
          "base_uri": "https://localhost:8080/"
        },
        "id": "E8x5iuRnC8dI",
        "outputId": "94de75f6-c33d-426c-c16b-f1d1e9eebfbb"
      },
      "execution_count": 13,
      "outputs": [
        {
          "output_type": "stream",
          "name": "stdout",
          "text": [
            "Epoch 1/10\n",
            "106/106 - 10s - 97ms/step - accuracy: 0.4781 - loss: 0.9961 - val_accuracy: 0.5293 - val_loss: 0.9215\n",
            "Epoch 2/10\n",
            "106/106 - 1s - 9ms/step - accuracy: 0.5803 - loss: 0.8567 - val_accuracy: 0.5913 - val_loss: 0.8295\n",
            "Epoch 3/10\n",
            "106/106 - 1s - 7ms/step - accuracy: 0.6116 - loss: 0.7922 - val_accuracy: 0.6027 - val_loss: 0.7886\n",
            "Epoch 4/10\n",
            "106/106 - 1s - 7ms/step - accuracy: 0.6404 - loss: 0.7535 - val_accuracy: 0.6467 - val_loss: 0.7764\n",
            "Epoch 5/10\n",
            "106/106 - 1s - 7ms/step - accuracy: 0.6594 - loss: 0.7205 - val_accuracy: 0.6700 - val_loss: 0.7343\n",
            "Epoch 6/10\n",
            "106/106 - 1s - 7ms/step - accuracy: 0.6820 - loss: 0.6898 - val_accuracy: 0.6733 - val_loss: 0.7166\n",
            "Epoch 7/10\n",
            "106/106 - 1s - 7ms/step - accuracy: 0.6973 - loss: 0.6552 - val_accuracy: 0.6813 - val_loss: 0.6896\n",
            "Epoch 8/10\n",
            "106/106 - 1s - 7ms/step - accuracy: 0.7092 - loss: 0.6388 - val_accuracy: 0.7040 - val_loss: 0.6649\n",
            "Epoch 9/10\n",
            "106/106 - 1s - 7ms/step - accuracy: 0.7309 - loss: 0.6035 - val_accuracy: 0.7007 - val_loss: 0.6636\n",
            "Epoch 10/10\n",
            "106/106 - 1s - 7ms/step - accuracy: 0.7448 - loss: 0.5750 - val_accuracy: 0.7160 - val_loss: 0.6370\n"
          ]
        }
      ]
    },
    {
      "cell_type": "code",
      "source": [
        "test_loss, test_acc = model.evaluate(x_test, y_test)\n",
        "print(f\"Test accuracy: {test_acc:.2%}\")"
      ],
      "metadata": {
        "colab": {
          "base_uri": "https://localhost:8080/"
        },
        "id": "hYSs2k_BDB7D",
        "outputId": "73b6c55e-205d-4422-cdba-6559009a3ef5"
      },
      "execution_count": 14,
      "outputs": [
        {
          "output_type": "stream",
          "name": "stdout",
          "text": [
            "\u001b[1m94/94\u001b[0m \u001b[32m━━━━━━━━━━━━━━━━━━━━\u001b[0m\u001b[37m\u001b[0m \u001b[1m1s\u001b[0m 9ms/step - accuracy: 0.7153 - loss: 0.6523\n",
            "Test accuracy: 71.97%\n"
          ]
        }
      ]
    },
    {
      "cell_type": "code",
      "source": [
        "model.summary()"
      ],
      "metadata": {
        "colab": {
          "base_uri": "https://localhost:8080/",
          "height": 497
        },
        "id": "2y1hSeKTDm0D",
        "outputId": "4474590f-c58d-4473-b4b9-17f36090bedd"
      },
      "execution_count": 15,
      "outputs": [
        {
          "output_type": "display_data",
          "data": {
            "text/plain": [
              "\u001b[1mModel: \"sequential\"\u001b[0m\n"
            ],
            "text/html": [
              "<pre style=\"white-space:pre;overflow-x:auto;line-height:normal;font-family:Menlo,'DejaVu Sans Mono',consolas,'Courier New',monospace\"><span style=\"font-weight: bold\">Model: \"sequential\"</span>\n",
              "</pre>\n"
            ]
          },
          "metadata": {}
        },
        {
          "output_type": "display_data",
          "data": {
            "text/plain": [
              "┏━━━━━━━━━━━━━━━━━━━━━━━━━━━━━━━━━┳━━━━━━━━━━━━━━━━━━━━━━━━┳━━━━━━━━━━━━━━━┓\n",
              "┃\u001b[1m \u001b[0m\u001b[1mLayer (type)                   \u001b[0m\u001b[1m \u001b[0m┃\u001b[1m \u001b[0m\u001b[1mOutput Shape          \u001b[0m\u001b[1m \u001b[0m┃\u001b[1m \u001b[0m\u001b[1m      Param #\u001b[0m\u001b[1m \u001b[0m┃\n",
              "┡━━━━━━━━━━━━━━━━━━━━━━━━━━━━━━━━━╇━━━━━━━━━━━━━━━━━━━━━━━━╇━━━━━━━━━━━━━━━┩\n",
              "│ conv2d (\u001b[38;5;33mConv2D\u001b[0m)                 │ (\u001b[38;5;45mNone\u001b[0m, \u001b[38;5;34m30\u001b[0m, \u001b[38;5;34m30\u001b[0m, \u001b[38;5;34m32\u001b[0m)     │           \u001b[38;5;34m896\u001b[0m │\n",
              "├─────────────────────────────────┼────────────────────────┼───────────────┤\n",
              "│ conv2d_1 (\u001b[38;5;33mConv2D\u001b[0m)               │ (\u001b[38;5;45mNone\u001b[0m, \u001b[38;5;34m28\u001b[0m, \u001b[38;5;34m28\u001b[0m, \u001b[38;5;34m32\u001b[0m)     │         \u001b[38;5;34m9,248\u001b[0m │\n",
              "├─────────────────────────────────┼────────────────────────┼───────────────┤\n",
              "│ max_pooling2d (\u001b[38;5;33mMaxPooling2D\u001b[0m)    │ (\u001b[38;5;45mNone\u001b[0m, \u001b[38;5;34m14\u001b[0m, \u001b[38;5;34m14\u001b[0m, \u001b[38;5;34m32\u001b[0m)     │             \u001b[38;5;34m0\u001b[0m │\n",
              "├─────────────────────────────────┼────────────────────────┼───────────────┤\n",
              "│ conv2d_2 (\u001b[38;5;33mConv2D\u001b[0m)               │ (\u001b[38;5;45mNone\u001b[0m, \u001b[38;5;34m12\u001b[0m, \u001b[38;5;34m12\u001b[0m, \u001b[38;5;34m32\u001b[0m)     │         \u001b[38;5;34m9,248\u001b[0m │\n",
              "├─────────────────────────────────┼────────────────────────┼───────────────┤\n",
              "│ conv2d_3 (\u001b[38;5;33mConv2D\u001b[0m)               │ (\u001b[38;5;45mNone\u001b[0m, \u001b[38;5;34m10\u001b[0m, \u001b[38;5;34m10\u001b[0m, \u001b[38;5;34m32\u001b[0m)     │         \u001b[38;5;34m9,248\u001b[0m │\n",
              "├─────────────────────────────────┼────────────────────────┼───────────────┤\n",
              "│ max_pooling2d_1 (\u001b[38;5;33mMaxPooling2D\u001b[0m)  │ (\u001b[38;5;45mNone\u001b[0m, \u001b[38;5;34m5\u001b[0m, \u001b[38;5;34m5\u001b[0m, \u001b[38;5;34m32\u001b[0m)       │             \u001b[38;5;34m0\u001b[0m │\n",
              "├─────────────────────────────────┼────────────────────────┼───────────────┤\n",
              "│ conv2d_4 (\u001b[38;5;33mConv2D\u001b[0m)               │ (\u001b[38;5;45mNone\u001b[0m, \u001b[38;5;34m3\u001b[0m, \u001b[38;5;34m3\u001b[0m, \u001b[38;5;34m32\u001b[0m)       │         \u001b[38;5;34m9,248\u001b[0m │\n",
              "├─────────────────────────────────┼────────────────────────┼───────────────┤\n",
              "│ conv2d_5 (\u001b[38;5;33mConv2D\u001b[0m)               │ (\u001b[38;5;45mNone\u001b[0m, \u001b[38;5;34m1\u001b[0m, \u001b[38;5;34m1\u001b[0m, \u001b[38;5;34m32\u001b[0m)       │         \u001b[38;5;34m9,248\u001b[0m │\n",
              "├─────────────────────────────────┼────────────────────────┼───────────────┤\n",
              "│ flatten (\u001b[38;5;33mFlatten\u001b[0m)               │ (\u001b[38;5;45mNone\u001b[0m, \u001b[38;5;34m32\u001b[0m)             │             \u001b[38;5;34m0\u001b[0m │\n",
              "├─────────────────────────────────┼────────────────────────┼───────────────┤\n",
              "│ dense (\u001b[38;5;33mDense\u001b[0m)                   │ (\u001b[38;5;45mNone\u001b[0m, \u001b[38;5;34m64\u001b[0m)             │         \u001b[38;5;34m2,112\u001b[0m │\n",
              "├─────────────────────────────────┼────────────────────────┼───────────────┤\n",
              "│ dense_1 (\u001b[38;5;33mDense\u001b[0m)                 │ (\u001b[38;5;45mNone\u001b[0m, \u001b[38;5;34m3\u001b[0m)              │           \u001b[38;5;34m195\u001b[0m │\n",
              "└─────────────────────────────────┴────────────────────────┴───────────────┘\n"
            ],
            "text/html": [
              "<pre style=\"white-space:pre;overflow-x:auto;line-height:normal;font-family:Menlo,'DejaVu Sans Mono',consolas,'Courier New',monospace\">┏━━━━━━━━━━━━━━━━━━━━━━━━━━━━━━━━━┳━━━━━━━━━━━━━━━━━━━━━━━━┳━━━━━━━━━━━━━━━┓\n",
              "┃<span style=\"font-weight: bold\"> Layer (type)                    </span>┃<span style=\"font-weight: bold\"> Output Shape           </span>┃<span style=\"font-weight: bold\">       Param # </span>┃\n",
              "┡━━━━━━━━━━━━━━━━━━━━━━━━━━━━━━━━━╇━━━━━━━━━━━━━━━━━━━━━━━━╇━━━━━━━━━━━━━━━┩\n",
              "│ conv2d (<span style=\"color: #0087ff; text-decoration-color: #0087ff\">Conv2D</span>)                 │ (<span style=\"color: #00d7ff; text-decoration-color: #00d7ff\">None</span>, <span style=\"color: #00af00; text-decoration-color: #00af00\">30</span>, <span style=\"color: #00af00; text-decoration-color: #00af00\">30</span>, <span style=\"color: #00af00; text-decoration-color: #00af00\">32</span>)     │           <span style=\"color: #00af00; text-decoration-color: #00af00\">896</span> │\n",
              "├─────────────────────────────────┼────────────────────────┼───────────────┤\n",
              "│ conv2d_1 (<span style=\"color: #0087ff; text-decoration-color: #0087ff\">Conv2D</span>)               │ (<span style=\"color: #00d7ff; text-decoration-color: #00d7ff\">None</span>, <span style=\"color: #00af00; text-decoration-color: #00af00\">28</span>, <span style=\"color: #00af00; text-decoration-color: #00af00\">28</span>, <span style=\"color: #00af00; text-decoration-color: #00af00\">32</span>)     │         <span style=\"color: #00af00; text-decoration-color: #00af00\">9,248</span> │\n",
              "├─────────────────────────────────┼────────────────────────┼───────────────┤\n",
              "│ max_pooling2d (<span style=\"color: #0087ff; text-decoration-color: #0087ff\">MaxPooling2D</span>)    │ (<span style=\"color: #00d7ff; text-decoration-color: #00d7ff\">None</span>, <span style=\"color: #00af00; text-decoration-color: #00af00\">14</span>, <span style=\"color: #00af00; text-decoration-color: #00af00\">14</span>, <span style=\"color: #00af00; text-decoration-color: #00af00\">32</span>)     │             <span style=\"color: #00af00; text-decoration-color: #00af00\">0</span> │\n",
              "├─────────────────────────────────┼────────────────────────┼───────────────┤\n",
              "│ conv2d_2 (<span style=\"color: #0087ff; text-decoration-color: #0087ff\">Conv2D</span>)               │ (<span style=\"color: #00d7ff; text-decoration-color: #00d7ff\">None</span>, <span style=\"color: #00af00; text-decoration-color: #00af00\">12</span>, <span style=\"color: #00af00; text-decoration-color: #00af00\">12</span>, <span style=\"color: #00af00; text-decoration-color: #00af00\">32</span>)     │         <span style=\"color: #00af00; text-decoration-color: #00af00\">9,248</span> │\n",
              "├─────────────────────────────────┼────────────────────────┼───────────────┤\n",
              "│ conv2d_3 (<span style=\"color: #0087ff; text-decoration-color: #0087ff\">Conv2D</span>)               │ (<span style=\"color: #00d7ff; text-decoration-color: #00d7ff\">None</span>, <span style=\"color: #00af00; text-decoration-color: #00af00\">10</span>, <span style=\"color: #00af00; text-decoration-color: #00af00\">10</span>, <span style=\"color: #00af00; text-decoration-color: #00af00\">32</span>)     │         <span style=\"color: #00af00; text-decoration-color: #00af00\">9,248</span> │\n",
              "├─────────────────────────────────┼────────────────────────┼───────────────┤\n",
              "│ max_pooling2d_1 (<span style=\"color: #0087ff; text-decoration-color: #0087ff\">MaxPooling2D</span>)  │ (<span style=\"color: #00d7ff; text-decoration-color: #00d7ff\">None</span>, <span style=\"color: #00af00; text-decoration-color: #00af00\">5</span>, <span style=\"color: #00af00; text-decoration-color: #00af00\">5</span>, <span style=\"color: #00af00; text-decoration-color: #00af00\">32</span>)       │             <span style=\"color: #00af00; text-decoration-color: #00af00\">0</span> │\n",
              "├─────────────────────────────────┼────────────────────────┼───────────────┤\n",
              "│ conv2d_4 (<span style=\"color: #0087ff; text-decoration-color: #0087ff\">Conv2D</span>)               │ (<span style=\"color: #00d7ff; text-decoration-color: #00d7ff\">None</span>, <span style=\"color: #00af00; text-decoration-color: #00af00\">3</span>, <span style=\"color: #00af00; text-decoration-color: #00af00\">3</span>, <span style=\"color: #00af00; text-decoration-color: #00af00\">32</span>)       │         <span style=\"color: #00af00; text-decoration-color: #00af00\">9,248</span> │\n",
              "├─────────────────────────────────┼────────────────────────┼───────────────┤\n",
              "│ conv2d_5 (<span style=\"color: #0087ff; text-decoration-color: #0087ff\">Conv2D</span>)               │ (<span style=\"color: #00d7ff; text-decoration-color: #00d7ff\">None</span>, <span style=\"color: #00af00; text-decoration-color: #00af00\">1</span>, <span style=\"color: #00af00; text-decoration-color: #00af00\">1</span>, <span style=\"color: #00af00; text-decoration-color: #00af00\">32</span>)       │         <span style=\"color: #00af00; text-decoration-color: #00af00\">9,248</span> │\n",
              "├─────────────────────────────────┼────────────────────────┼───────────────┤\n",
              "│ flatten (<span style=\"color: #0087ff; text-decoration-color: #0087ff\">Flatten</span>)               │ (<span style=\"color: #00d7ff; text-decoration-color: #00d7ff\">None</span>, <span style=\"color: #00af00; text-decoration-color: #00af00\">32</span>)             │             <span style=\"color: #00af00; text-decoration-color: #00af00\">0</span> │\n",
              "├─────────────────────────────────┼────────────────────────┼───────────────┤\n",
              "│ dense (<span style=\"color: #0087ff; text-decoration-color: #0087ff\">Dense</span>)                   │ (<span style=\"color: #00d7ff; text-decoration-color: #00d7ff\">None</span>, <span style=\"color: #00af00; text-decoration-color: #00af00\">64</span>)             │         <span style=\"color: #00af00; text-decoration-color: #00af00\">2,112</span> │\n",
              "├─────────────────────────────────┼────────────────────────┼───────────────┤\n",
              "│ dense_1 (<span style=\"color: #0087ff; text-decoration-color: #0087ff\">Dense</span>)                 │ (<span style=\"color: #00d7ff; text-decoration-color: #00d7ff\">None</span>, <span style=\"color: #00af00; text-decoration-color: #00af00\">3</span>)              │           <span style=\"color: #00af00; text-decoration-color: #00af00\">195</span> │\n",
              "└─────────────────────────────────┴────────────────────────┴───────────────┘\n",
              "</pre>\n"
            ]
          },
          "metadata": {}
        },
        {
          "output_type": "display_data",
          "data": {
            "text/plain": [
              "\u001b[1m Total params: \u001b[0m\u001b[38;5;34m148,331\u001b[0m (579.42 KB)\n"
            ],
            "text/html": [
              "<pre style=\"white-space:pre;overflow-x:auto;line-height:normal;font-family:Menlo,'DejaVu Sans Mono',consolas,'Courier New',monospace\"><span style=\"font-weight: bold\"> Total params: </span><span style=\"color: #00af00; text-decoration-color: #00af00\">148,331</span> (579.42 KB)\n",
              "</pre>\n"
            ]
          },
          "metadata": {}
        },
        {
          "output_type": "display_data",
          "data": {
            "text/plain": [
              "\u001b[1m Trainable params: \u001b[0m\u001b[38;5;34m49,443\u001b[0m (193.14 KB)\n"
            ],
            "text/html": [
              "<pre style=\"white-space:pre;overflow-x:auto;line-height:normal;font-family:Menlo,'DejaVu Sans Mono',consolas,'Courier New',monospace\"><span style=\"font-weight: bold\"> Trainable params: </span><span style=\"color: #00af00; text-decoration-color: #00af00\">49,443</span> (193.14 KB)\n",
              "</pre>\n"
            ]
          },
          "metadata": {}
        },
        {
          "output_type": "display_data",
          "data": {
            "text/plain": [
              "\u001b[1m Non-trainable params: \u001b[0m\u001b[38;5;34m0\u001b[0m (0.00 B)\n"
            ],
            "text/html": [
              "<pre style=\"white-space:pre;overflow-x:auto;line-height:normal;font-family:Menlo,'DejaVu Sans Mono',consolas,'Courier New',monospace\"><span style=\"font-weight: bold\"> Non-trainable params: </span><span style=\"color: #00af00; text-decoration-color: #00af00\">0</span> (0.00 B)\n",
              "</pre>\n"
            ]
          },
          "metadata": {}
        },
        {
          "output_type": "display_data",
          "data": {
            "text/plain": [
              "\u001b[1m Optimizer params: \u001b[0m\u001b[38;5;34m98,888\u001b[0m (386.29 KB)\n"
            ],
            "text/html": [
              "<pre style=\"white-space:pre;overflow-x:auto;line-height:normal;font-family:Menlo,'DejaVu Sans Mono',consolas,'Courier New',monospace\"><span style=\"font-weight: bold\"> Optimizer params: </span><span style=\"color: #00af00; text-decoration-color: #00af00\">98,888</span> (386.29 KB)\n",
              "</pre>\n"
            ]
          },
          "metadata": {}
        }
      ]
    },
    {
      "cell_type": "markdown",
      "source": [
        "65%-75%대의 정확도를 가지고 있습니다. CNN모델 구성을 수정해 shape를 1,1,32로 조정해도 비슷한 결과가 나옵니다. 따라서 현재 정확도를 개선하는데 있어 CNN의 구성을 수정하는 것은 큰 의미가 없다고 생각합니다."
      ],
      "metadata": {
        "id": "ORCHA9l2Hbls"
      }
    },
    {
      "cell_type": "code",
      "source": [
        "# loss 체크\n",
        "import matplotlib.pyplot as plt\n",
        "\n",
        "N_EPOCHS = 10 # 에포크 수 정의\n",
        "history = model_cnn # 학습 히스토리 변수 사용\n",
        "\n",
        "plt.figure(figsize=(10,7))\n",
        "plt.plot(range(N_EPOCHS), history.history['loss'], label='train loss')\n",
        "plt.plot(range(N_EPOCHS), history.history['val_loss'], label='validation loss')\n",
        "plt.xlabel('Epoch')\n",
        "plt.ylabel('Loss')\n",
        "plt.legend()\n",
        "plt.show()"
      ],
      "metadata": {
        "colab": {
          "base_uri": "https://localhost:8080/",
          "height": 497
        },
        "id": "URM8Xap4GF_F",
        "outputId": "306ff5c0-9e93-4c02-d447-a735346a142c"
      },
      "execution_count": 16,
      "outputs": [
        {
          "output_type": "display_data",
          "data": {
            "text/plain": [
              "<Figure size 1000x700 with 1 Axes>"
            ],
            "image/png": "[encoded data removed]"
          },
          "metadata": {}
        }
      ]
    },
    {
      "cell_type": "markdown",
      "source": [
        "위 그래프에서 과적합 문제가 발생하여 아래 과적합 해결로 드롭 아웃을 실행한 모습입니다.  \n",
        "\n",
        "그러나 위 그래프에 과적합 문제는 CNN모델에 출력 뉴런을 10개로 설정해서 생긴것 뿐입니다.  \n",
        "\n",
        "지금도 그래프에 손실함수가 다시 위로 뜨는 문제가 있었지만 출력10개는 손실함수에 검증 데이터가 2.*대로 올라갔습니다."
      ],
      "metadata": {
        "id": "NlVASn6iSCqk"
      }
    },
    {
      "cell_type": "code",
      "metadata": {
        "id": "6fdcbcf7"
      },
      "source": [
        "# CNN 모델 구성 (드롭아웃 추가) - 새로운 모델\n",
        "model_dropout = models.Sequential()\n",
        "model_dropout.add(layers.Conv2D(32, (3, 3), activation='relu', input_shape=(32, 32, 3)))\n",
        "model_dropout.add(layers.Conv2D(32, (3, 3), activation='relu'))\n",
        "model_dropout.add(layers.MaxPooling2D((2, 2)))\n",
        "model_dropout.add(layers.Dropout(0.25)) # 드롭아웃 추가\n",
        "\n",
        "model_dropout.add(layers.Conv2D(32, (3, 3), activation='relu'))\n",
        "model_dropout.add(layers.Conv2D(32, (3, 3), activation='relu'))\n",
        "model_dropout.add(layers.MaxPooling2D((2, 2)))\n",
        "model_dropout.add(layers.Dropout(0.25)) # 드롭아웃 추가\n",
        "\n",
        "model_dropout.add(layers.Conv2D(32, (3, 3), activation='relu'))\n",
        "model_dropout.add(layers.Conv2D(32, (3, 3), activation='relu'))\n",
        "\n",
        "model_dropout.add(layers.Flatten())\n",
        "model_dropout.add(layers.Dense(64, activation='relu'))\n",
        "model_dropout.add(layers.Dropout(0.5)) # 드롭아웃 추가\n",
        "model_dropout.add(layers.Dense(3, activation='softmax'))\n",
        "\n",
        "#모델 컴파일하기\n",
        "model_dropout.compile(\n",
        "    optimizer='adam',\n",
        "    loss='sparse_categorical_crossentropy',\n",
        "    metrics=['accuracy']\n",
        ")"
      ],
      "execution_count": 17,
      "outputs": []
    },
    {
      "cell_type": "code",
      "source": [
        "# 학습\n",
        "model_dropout_cnn = model_dropout.fit(x_train, y_train, epochs=10, validation_split=0.1, batch_size=128, verbose=2)"
      ],
      "metadata": {
        "colab": {
          "base_uri": "https://localhost:8080/"
        },
        "id": "D5agth-5L9mf",
        "outputId": "71a9725e-b089-4255-b3bb-e6209f36a871"
      },
      "execution_count": 18,
      "outputs": [
        {
          "output_type": "stream",
          "name": "stdout",
          "text": [
            "Epoch 1/10\n",
            "106/106 - 11s - 105ms/step - accuracy: 0.4212 - loss: 1.0485 - val_accuracy: 0.4447 - val_loss: 1.0116\n",
            "Epoch 2/10\n",
            "106/106 - 1s - 8ms/step - accuracy: 0.5168 - loss: 0.9141 - val_accuracy: 0.5533 - val_loss: 0.8561\n",
            "Epoch 3/10\n",
            "106/106 - 1s - 7ms/step - accuracy: 0.5510 - loss: 0.8477 - val_accuracy: 0.5607 - val_loss: 0.8238\n",
            "Epoch 4/10\n",
            "106/106 - 1s - 7ms/step - accuracy: 0.5693 - loss: 0.8177 - val_accuracy: 0.5773 - val_loss: 0.7825\n",
            "Epoch 5/10\n",
            "106/106 - 1s - 7ms/step - accuracy: 0.5830 - loss: 0.8087 - val_accuracy: 0.6027 - val_loss: 0.7755\n",
            "Epoch 6/10\n",
            "106/106 - 1s - 9ms/step - accuracy: 0.6081 - loss: 0.7784 - val_accuracy: 0.6247 - val_loss: 0.7567\n",
            "Epoch 7/10\n",
            "106/106 - 1s - 9ms/step - accuracy: 0.6225 - loss: 0.7563 - val_accuracy: 0.6580 - val_loss: 0.7222\n",
            "Epoch 8/10\n",
            "106/106 - 1s - 9ms/step - accuracy: 0.6367 - loss: 0.7354 - val_accuracy: 0.6407 - val_loss: 0.7328\n",
            "Epoch 9/10\n",
            "106/106 - 1s - 8ms/step - accuracy: 0.6581 - loss: 0.7158 - val_accuracy: 0.6873 - val_loss: 0.6860\n",
            "Epoch 10/10\n",
            "106/106 - 1s - 8ms/step - accuracy: 0.6665 - loss: 0.6959 - val_accuracy: 0.6833 - val_loss: 0.6869\n"
          ]
        }
      ]
    },
    {
      "cell_type": "code",
      "source": [
        "test_loss, test_acc = model_dropout.evaluate(x_test, y_test)\n",
        "print(f\"Test accuracy: {test_acc:.2%}\")"
      ],
      "metadata": {
        "colab": {
          "base_uri": "https://localhost:8080/"
        },
        "id": "33m1HdZ9MUK0",
        "outputId": "4e840cde-6385-4d5c-9a7a-1c00fd5d0911"
      },
      "execution_count": 19,
      "outputs": [
        {
          "output_type": "stream",
          "name": "stdout",
          "text": [
            "\u001b[1m94/94\u001b[0m \u001b[32m━━━━━━━━━━━━━━━━━━━━\u001b[0m\u001b[37m\u001b[0m \u001b[1m1s\u001b[0m 6ms/step - accuracy: 0.6942 - loss: 0.6837\n",
            "Test accuracy: 68.67%\n"
          ]
        }
      ]
    },
    {
      "cell_type": "code",
      "metadata": {
        "colab": {
          "base_uri": "https://localhost:8080/",
          "height": 492
        },
        "id": "458615b5",
        "outputId": "da944a4e-59b7-4600-868a-ed8fb74a5fed"
      },
      "source": [
        "# loss 체크\n",
        "import matplotlib.pyplot as plt\n",
        "\n",
        "N_EPOCHS = 10\n",
        "history = model_dropout_cnn # 새로운 모델 학습의 history 변수\n",
        "\n",
        "plt.figure(figsize=(10,7))\n",
        "plt.plot(range(N_EPOCHS), history.history['loss'], label='train loss')\n",
        "plt.plot(range(N_EPOCHS), history.history['val_loss'], label='validation loss')\n",
        "plt.xlabel('Epoch')\n",
        "plt.ylabel('Loss')\n",
        "plt.legend()\n",
        "plt.show()"
      ],
      "execution_count": 20,
      "outputs": [
        {
          "output_type": "display_data",
          "data": {
            "text/plain": [
              "<Figure size 1000x700 with 1 Axes>"
            ],
            "image/png": "[encoded data removed]"
          },
          "metadata": {}
        }
      ]
    },
    {
      "cell_type": "markdown",
      "source": [
        "드롭아웃 0.25, 0.5 에서는 0.6580, 0.6501으로 훈련이 끝났습니다.  \n",
        "드롭아웃 0.1, 0.25 에서는 0.6152, 0.6412로 훈련이 끝났습니다.  \n",
        "드롭아웃 0.05, 0.1 에서는 0.6158, 0.6656로 마지막에 loss값이 다시 높아졌습니다."
      ],
      "metadata": {
        "id": "WcRHEFRONDvr"
      }
    },
    {
      "cell_type": "markdown",
      "source": [
        "드롭아웃 적용전보다 검증 데이터 부분에서 손실함수가 개선되었습니다. 그러나 각 수치를 어느정도로 해야 최적에 성능이 나올지는 아직잘 모르겠습니다.  \n",
        "여러번의 반복 결과 0.25, 0.5가 가장 과적합이 안정적으로 일어났습니다.\n"
      ],
      "metadata": {
        "id": "eU1Csn-RSkrc"
      }
    },
    {
      "cell_type": "markdown",
      "source": [
        "이번에는 정확도를 높여보겠습니다.  \n",
        "우선 CNN 구조에서 1차원 벡터화 이후에 층을 늘려보겠습니다."
      ],
      "metadata": {
        "id": "xn_BbLUWPvuH"
      }
    },
    {
      "cell_type": "code",
      "source": [
        "# CNN 모델 구성 (벡터화 이후 층 추가) - 새로운 모델\n",
        "model_advenced = models.Sequential()\n",
        "model_advenced.add(layers.Conv2D(32, (3, 3), activation='relu', input_shape=(32, 32, 3)))\n",
        "model_advenced.add(layers.Conv2D(32, (3, 3), activation='relu'))\n",
        "model_advenced.add(layers.MaxPooling2D((2, 2)))\n",
        "model_advenced.add(layers.Dropout(0.25))\n",
        "\n",
        "model_advenced.add(layers.Conv2D(32, (3, 3), activation='relu'))\n",
        "model_advenced.add(layers.Conv2D(32, (3, 3), activation='relu'))\n",
        "model_advenced.add(layers.MaxPooling2D((2, 2)))\n",
        "model_advenced.add(layers.Dropout(0.25))\n",
        "\n",
        "model_advenced.add(layers.Conv2D(32, (3, 3), activation='relu'))\n",
        "model_advenced.add(layers.Conv2D(32, (3, 3), activation='relu'))\n",
        "\n",
        "model_advenced.add(layers.Flatten())\n",
        "model_advenced.add(layers.Dense(64, activation='relu')) # 층을 추가로 투입\n",
        "model_advenced.add(layers.Dropout(0.25))\n",
        "model_advenced.add(layers.Dense(64, activation='relu'))\n",
        "model_advenced.add(layers.Dropout(0.25))\n",
        "model_advenced.add(layers.Dense(64, activation='relu'))\n",
        "model_advenced.add(layers.Dense(3, activation='softmax'))\n",
        "\n",
        "#모델 컴파일하기\n",
        "model_advenced.compile(\n",
        "    optimizer='adam',\n",
        "    loss='sparse_categorical_crossentropy',\n",
        "    metrics=['accuracy']\n",
        ")"
      ],
      "metadata": {
        "id": "qweIwbTEiGg1"
      },
      "execution_count": 21,
      "outputs": []
    },
    {
      "cell_type": "code",
      "source": [
        "# 학습\n",
        "model_dropout_cnn = model_advenced.fit(x_train, y_train, epochs=10, validation_split=0.1, batch_size=128, verbose=2)"
      ],
      "metadata": {
        "colab": {
          "base_uri": "https://localhost:8080/"
        },
        "id": "ES832TWEiThl",
        "outputId": "d0209370-8aad-4bcb-a8d9-d90bbe10de1c"
      },
      "execution_count": 24,
      "outputs": [
        {
          "output_type": "stream",
          "name": "stdout",
          "text": [
            "Epoch 1/10\n",
            "106/106 - 1s - 9ms/step - accuracy: 0.7271 - loss: 0.6154 - val_accuracy: 0.7333 - val_loss: 0.6001\n",
            "Epoch 2/10\n",
            "106/106 - 1s - 8ms/step - accuracy: 0.7444 - loss: 0.5853 - val_accuracy: 0.7367 - val_loss: 0.5932\n",
            "Epoch 3/10\n",
            "106/106 - 1s - 8ms/step - accuracy: 0.7513 - loss: 0.5783 - val_accuracy: 0.7560 - val_loss: 0.5689\n",
            "Epoch 4/10\n",
            "106/106 - 1s - 8ms/step - accuracy: 0.7520 - loss: 0.5695 - val_accuracy: 0.7533 - val_loss: 0.5670\n",
            "Epoch 5/10\n",
            "106/106 - 1s - 8ms/step - accuracy: 0.7653 - loss: 0.5534 - val_accuracy: 0.7580 - val_loss: 0.5636\n",
            "Epoch 6/10\n",
            "106/106 - 1s - 9ms/step - accuracy: 0.7667 - loss: 0.5436 - val_accuracy: 0.7573 - val_loss: 0.5575\n",
            "Epoch 7/10\n",
            "106/106 - 1s - 9ms/step - accuracy: 0.7746 - loss: 0.5290 - val_accuracy: 0.7673 - val_loss: 0.5548\n",
            "Epoch 8/10\n",
            "106/106 - 1s - 10ms/step - accuracy: 0.7857 - loss: 0.5125 - val_accuracy: 0.7713 - val_loss: 0.5537\n",
            "Epoch 9/10\n",
            "106/106 - 1s - 7ms/step - accuracy: 0.7809 - loss: 0.5105 - val_accuracy: 0.7660 - val_loss: 0.5580\n",
            "Epoch 10/10\n",
            "106/106 - 1s - 8ms/step - accuracy: 0.7891 - loss: 0.5022 - val_accuracy: 0.7820 - val_loss: 0.5294\n"
          ]
        }
      ]
    },
    {
      "cell_type": "code",
      "source": [
        "test_loss, test_acc = model_advenced.evaluate(x_test, y_test)\n",
        "print(f\"Test accuracy: {test_acc:.2%}\")"
      ],
      "metadata": {
        "colab": {
          "base_uri": "https://localhost:8080/"
        },
        "id": "OeWhrJgDio3F",
        "outputId": "03f277aa-e93b-4610-9478-201ad6f74fb9"
      },
      "execution_count": 25,
      "outputs": [
        {
          "output_type": "stream",
          "name": "stdout",
          "text": [
            "\u001b[1m94/94\u001b[0m \u001b[32m━━━━━━━━━━━━━━━━━━━━\u001b[0m\u001b[37m\u001b[0m \u001b[1m0s\u001b[0m 3ms/step - accuracy: 0.7776 - loss: 0.5298\n",
            "Test accuracy: 77.07%\n"
          ]
        }
      ]
    },
    {
      "cell_type": "markdown",
      "source": [
        "정확도는 78%까지도 올라갔지만 반대로 66%가 나오는 등 근본적인 문제는 해결하지 못했습니다."
      ],
      "metadata": {
        "id": "TnODIu16rJgs"
      }
    },
    {
      "cell_type": "code",
      "source": [],
      "metadata": {
        "id": "da_F5dZfi7O8"
      },
      "execution_count": 23,
      "outputs": []
    }
  ]
}
