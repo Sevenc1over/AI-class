{
  "nbformat": 4,
  "nbformat_minor": 0,
  "metadata": {
    "colab": {
      "provenance": [],
      "gpuType": "T4",
      "authorship_tag": "ABX9TyPWxAWGQLQrYBHf2RMbi/+l",
      "include_colab_link": true
    },
    "kernelspec": {
      "name": "python3",
      "display_name": "Python 3"
    },
    "language_info": {
      "name": "python"
    },
    "accelerator": "GPU"
  },
  "cells": [
    {
      "cell_type": "markdown",
      "metadata": {
        "id": "view-in-github",
        "colab_type": "text"
      },
      "source": [
        "<a href=\"https://colab.research.google.com/github/Sevenc1over/AI-class/blob/main/1%EC%A3%BC%EC%B0%A8_(%ED%8C%8C%EC%9D%B4%ED%86%A0%EC%B9%98_%EC%A4%80%EB%B9%84_%EB%B0%8F_%ED%99%95%EC%9D%B8).ipynb\" target=\"_parent\"><img src=\"https://colab.research.google.com/assets/colab-badge.svg\" alt=\"Open In Colab\"/></a>"
      ]
    },
    {
      "cell_type": "code",
      "execution_count": 1,
      "metadata": {
        "colab": {
          "base_uri": "https://localhost:8080/"
        },
        "id": "eY8xfdyVf5v3",
        "outputId": "f05ffc95-faa6-4149-c7d4-1f3d5b198f97"
      },
      "outputs": [
        {
          "output_type": "stream",
          "name": "stdout",
          "text": [
            "PyTorch 버전: 2.8.0+cu126\n",
            "CUDA 사용 가능?: True\n",
            "GPU 이름: Tesla T4\n"
          ]
        }
      ],
      "source": [
        "import torch\n",
        "\n",
        "print(\"PyTorch 버전:\", torch.__version__)\n",
        "print(\"CUDA 사용 가능?:\", torch.cuda.is_available())\n",
        "print(\"GPU 이름:\", torch.cuda.get_device_name(0) if torch.cuda.is_available() else \"GPU 없음\")"
      ]
    },
    {
      "cell_type": "code",
      "source": [
        "x = torch.rand(3, 3)\n",
        "print(\"CPU 텐서:\\n\", x)\n",
        "\n",
        "# GPU 이동 테스트\n",
        "if torch.cuda.is_available():\n",
        "    x = x.to(\"cuda\")\n",
        "    print(\"GPU 사용 성공:\", x.device)\n",
        "else:\n",
        "    print(\"GPU 사용 불가\")"
      ],
      "metadata": {
        "colab": {
          "base_uri": "https://localhost:8080/"
        },
        "id": "WgjNvliujGpS",
        "outputId": "06c9d870-3527-40aa-87fa-abe03424e351"
      },
      "execution_count": 2,
      "outputs": [
        {
          "output_type": "stream",
          "name": "stdout",
          "text": [
            "CPU 텐서:\n",
            " tensor([[0.9065, 0.9374, 0.5326],\n",
            "        [0.7196, 0.4455, 0.1805],\n",
            "        [0.3472, 0.6409, 0.3050]])\n",
            "GPU 사용 성공: cuda:0\n"
          ]
        }
      ]
    }
  ]
}
